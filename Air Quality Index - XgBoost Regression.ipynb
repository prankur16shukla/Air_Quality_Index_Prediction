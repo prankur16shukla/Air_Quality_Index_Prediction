{
 "cells": [
  {
   "cell_type": "markdown",
   "id": "4aeaaf0a",
   "metadata": {},
   "source": [
    "# XgBoost Regression on the Collected Data"
   ]
  },
  {
   "cell_type": "markdown",
   "id": "ee645a6e",
   "metadata": {},
   "source": [
    "In this Jupyter notebook we will be applying the XgBoost Regression on the data that we have extracted (Real_Combine.csv) and try to make predictions for the AQI (PM 2.5) based on different factors :\n",
    "\n",
    "- T\t:   Average temperature (°C)\n",
    "- TM:\tMaximum temperature (°C)\n",
    "- Tm:\tMinimum temperature (°C)\n",
    "- SLP:\tAtmospheric pressure at sea level (hPa)\n",
    "- H\t:   Average relative humidity (%)\n",
    "- VV:\tAverage visibility (Km)\n",
    "- V :   Average wind speed (Km/h)\n",
    "- VM:\tMaximum sustained wind speed (Km/h)"
   ]
  },
  {
   "cell_type": "markdown",
   "id": "783841a7",
   "metadata": {},
   "source": [
    "## Importing the important libraries required"
   ]
  },
  {
   "cell_type": "code",
   "execution_count": 1,
   "id": "636e9696",
   "metadata": {},
   "outputs": [],
   "source": [
    "import numpy as np\n",
    "import pandas as pd\n",
    "import seaborn as sns\n",
    "import scipy.stats as stats\n",
    "import matplotlib.pyplot as plt\n",
    "%matplotlib inline\n",
    "\n",
    "from sklearn.ensemble import ExtraTreesRegressor\n",
    "from sklearn.model_selection import train_test_split, cross_val_score, RandomizedSearchCV\n",
    "import xgboost as xgb\n",
    "from sklearn import metrics "
   ]
  },
  {
   "cell_type": "markdown",
   "id": "dbed86a8",
   "metadata": {},
   "source": [
    "## Reading the Dataset"
   ]
  },
  {
   "cell_type": "code",
   "execution_count": 2,
   "id": "57a310c3",
   "metadata": {},
   "outputs": [],
   "source": [
    "df = pd.read_csv('Data\\Real-Data\\Real_Combine.csv')"
   ]
  },
  {
   "cell_type": "code",
   "execution_count": 3,
   "id": "93a3b33a",
   "metadata": {},
   "outputs": [
    {
     "data": {
      "text/html": [
       "<div>\n",
       "<style scoped>\n",
       "    .dataframe tbody tr th:only-of-type {\n",
       "        vertical-align: middle;\n",
       "    }\n",
       "\n",
       "    .dataframe tbody tr th {\n",
       "        vertical-align: top;\n",
       "    }\n",
       "\n",
       "    .dataframe thead th {\n",
       "        text-align: right;\n",
       "    }\n",
       "</style>\n",
       "<table border=\"1\" class=\"dataframe\">\n",
       "  <thead>\n",
       "    <tr style=\"text-align: right;\">\n",
       "      <th></th>\n",
       "      <th>T</th>\n",
       "      <th>TM</th>\n",
       "      <th>Tm</th>\n",
       "      <th>SLP</th>\n",
       "      <th>H</th>\n",
       "      <th>VV</th>\n",
       "      <th>V</th>\n",
       "      <th>VM</th>\n",
       "      <th>PM 2.5</th>\n",
       "    </tr>\n",
       "  </thead>\n",
       "  <tbody>\n",
       "    <tr>\n",
       "      <th>0</th>\n",
       "      <td>14.9</td>\n",
       "      <td>21.6</td>\n",
       "      <td>8.8</td>\n",
       "      <td>1017.4</td>\n",
       "      <td>76.0</td>\n",
       "      <td>0.8</td>\n",
       "      <td>0.9</td>\n",
       "      <td>7.6</td>\n",
       "      <td>172.750000</td>\n",
       "    </tr>\n",
       "    <tr>\n",
       "      <th>1</th>\n",
       "      <td>14.7</td>\n",
       "      <td>21.6</td>\n",
       "      <td>10.2</td>\n",
       "      <td>1018.1</td>\n",
       "      <td>97.0</td>\n",
       "      <td>0.6</td>\n",
       "      <td>3.1</td>\n",
       "      <td>9.4</td>\n",
       "      <td>146.791667</td>\n",
       "    </tr>\n",
       "    <tr>\n",
       "      <th>2</th>\n",
       "      <td>15.0</td>\n",
       "      <td>16.8</td>\n",
       "      <td>13.6</td>\n",
       "      <td>1017.5</td>\n",
       "      <td>94.0</td>\n",
       "      <td>0.5</td>\n",
       "      <td>0.9</td>\n",
       "      <td>7.6</td>\n",
       "      <td>113.875000</td>\n",
       "    </tr>\n",
       "    <tr>\n",
       "      <th>3</th>\n",
       "      <td>9.8</td>\n",
       "      <td>17.6</td>\n",
       "      <td>6.4</td>\n",
       "      <td>1016.6</td>\n",
       "      <td>90.0</td>\n",
       "      <td>0.5</td>\n",
       "      <td>3.9</td>\n",
       "      <td>11.1</td>\n",
       "      <td>227.000000</td>\n",
       "    </tr>\n",
       "    <tr>\n",
       "      <th>4</th>\n",
       "      <td>10.1</td>\n",
       "      <td>14.5</td>\n",
       "      <td>7.2</td>\n",
       "      <td>1019.2</td>\n",
       "      <td>90.0</td>\n",
       "      <td>0.3</td>\n",
       "      <td>3.3</td>\n",
       "      <td>7.6</td>\n",
       "      <td>231.250000</td>\n",
       "    </tr>\n",
       "    <tr>\n",
       "      <th>...</th>\n",
       "      <td>...</td>\n",
       "      <td>...</td>\n",
       "      <td>...</td>\n",
       "      <td>...</td>\n",
       "      <td>...</td>\n",
       "      <td>...</td>\n",
       "      <td>...</td>\n",
       "      <td>...</td>\n",
       "      <td>...</td>\n",
       "    </tr>\n",
       "    <tr>\n",
       "      <th>1076</th>\n",
       "      <td>13.9</td>\n",
       "      <td>23.2</td>\n",
       "      <td>5.5</td>\n",
       "      <td>1017.2</td>\n",
       "      <td>69.0</td>\n",
       "      <td>1.0</td>\n",
       "      <td>4.1</td>\n",
       "      <td>13.0</td>\n",
       "      <td>375.791667</td>\n",
       "    </tr>\n",
       "    <tr>\n",
       "      <th>1077</th>\n",
       "      <td>13.0</td>\n",
       "      <td>23.1</td>\n",
       "      <td>4.6</td>\n",
       "      <td>1017.0</td>\n",
       "      <td>74.0</td>\n",
       "      <td>1.1</td>\n",
       "      <td>3.5</td>\n",
       "      <td>9.4</td>\n",
       "      <td>223.250000</td>\n",
       "    </tr>\n",
       "    <tr>\n",
       "      <th>1078</th>\n",
       "      <td>13.3</td>\n",
       "      <td>22.4</td>\n",
       "      <td>4.4</td>\n",
       "      <td>1016.5</td>\n",
       "      <td>72.0</td>\n",
       "      <td>1.1</td>\n",
       "      <td>5.2</td>\n",
       "      <td>9.4</td>\n",
       "      <td>248.958333</td>\n",
       "    </tr>\n",
       "    <tr>\n",
       "      <th>1079</th>\n",
       "      <td>15.0</td>\n",
       "      <td>21.9</td>\n",
       "      <td>6.0</td>\n",
       "      <td>1013.5</td>\n",
       "      <td>68.0</td>\n",
       "      <td>1.0</td>\n",
       "      <td>5.4</td>\n",
       "      <td>11.1</td>\n",
       "      <td>441.416667</td>\n",
       "    </tr>\n",
       "    <tr>\n",
       "      <th>1080</th>\n",
       "      <td>10.7</td>\n",
       "      <td>17.0</td>\n",
       "      <td>3.3</td>\n",
       "      <td>1018.7</td>\n",
       "      <td>82.0</td>\n",
       "      <td>0.5</td>\n",
       "      <td>4.8</td>\n",
       "      <td>9.4</td>\n",
       "      <td>NaN</td>\n",
       "    </tr>\n",
       "  </tbody>\n",
       "</table>\n",
       "<p>1081 rows × 9 columns</p>\n",
       "</div>"
      ],
      "text/plain": [
       "         T    TM    Tm     SLP     H   VV    V    VM      PM 2.5\n",
       "0     14.9  21.6   8.8  1017.4  76.0  0.8  0.9   7.6  172.750000\n",
       "1     14.7  21.6  10.2  1018.1  97.0  0.6  3.1   9.4  146.791667\n",
       "2     15.0  16.8  13.6  1017.5  94.0  0.5  0.9   7.6  113.875000\n",
       "3      9.8  17.6   6.4  1016.6  90.0  0.5  3.9  11.1  227.000000\n",
       "4     10.1  14.5   7.2  1019.2  90.0  0.3  3.3   7.6  231.250000\n",
       "...    ...   ...   ...     ...   ...  ...  ...   ...         ...\n",
       "1076  13.9  23.2   5.5  1017.2  69.0  1.0  4.1  13.0  375.791667\n",
       "1077  13.0  23.1   4.6  1017.0  74.0  1.1  3.5   9.4  223.250000\n",
       "1078  13.3  22.4   4.4  1016.5  72.0  1.1  5.2   9.4  248.958333\n",
       "1079  15.0  21.9   6.0  1013.5  68.0  1.0  5.4  11.1  441.416667\n",
       "1080  10.7  17.0   3.3  1018.7  82.0  0.5  4.8   9.4         NaN\n",
       "\n",
       "[1081 rows x 9 columns]"
      ]
     },
     "execution_count": 3,
     "metadata": {},
     "output_type": "execute_result"
    }
   ],
   "source": [
    "# Visualizing the data\n",
    "df"
   ]
  },
  {
   "cell_type": "markdown",
   "id": "7dbcd664",
   "metadata": {},
   "source": [
    "Here we can see that we are having 1081 rows and 9 columns (features). Where T, TM, Tm, SLP, H, VV, V, VM are the independent features and PM 2.5 is the dependent feature."
   ]
  },
  {
   "cell_type": "code",
   "execution_count": 4,
   "id": "0bcaec50",
   "metadata": {},
   "outputs": [
    {
     "data": {
      "text/plain": [
       "T         0\n",
       "TM        0\n",
       "Tm        0\n",
       "SLP       0\n",
       "H         0\n",
       "VV        0\n",
       "V         0\n",
       "VM        0\n",
       "PM 2.5    3\n",
       "dtype: int64"
      ]
     },
     "execution_count": 4,
     "metadata": {},
     "output_type": "execute_result"
    }
   ],
   "source": [
    "# checking for null values in Data\n",
    "\n",
    "df.isnull().sum()"
   ]
  },
  {
   "cell_type": "markdown",
   "id": "25b9f2eb",
   "metadata": {},
   "source": [
    "Here we can see that we are having 3 null values in the Target feature that needs to handled."
   ]
  },
  {
   "cell_type": "code",
   "execution_count": 5,
   "id": "0cc373a0",
   "metadata": {},
   "outputs": [
    {
     "name": "stderr",
     "output_type": "stream",
     "text": [
      "c:\\users\\prank\\appdata\\local\\programs\\python\\python37\\lib\\site-packages\\seaborn\\distributions.py:2557: FutureWarning: `distplot` is a deprecated function and will be removed in a future version. Please adapt your code to use either `displot` (a figure-level function with similar flexibility) or `histplot` (an axes-level function for histograms).\n",
      "  warnings.warn(msg, FutureWarning)\n"
     ]
    },
    {
     "data": {
      "image/png": "[encoded data removed]",
      "text/plain": [
       "<Figure size 864x360 with 2 Axes>"
      ]
     },
     "metadata": {
      "needs_background": "light"
     },
     "output_type": "display_data"
    }
   ],
   "source": [
    "# observing the distribution of 'PM 2.5' target value\n",
    "\n",
    "plt.figure(figsize=(12,5))\n",
    "plt.subplot(1,2,1)\n",
    "sns.distplot(df['PM 2.5'])\n",
    "plt.title('Distribution Plot')\n",
    "\n",
    "plt.subplot(1,2,2)\n",
    "stats.probplot(df['PM 2.5'], dist=\"norm\", plot=plt)\n",
    "plt.tight_layout()"
   ]
  },
  {
   "cell_type": "markdown",
   "id": "79d94405",
   "metadata": {},
   "source": [
    "It can be seen that the target variable 'PM 2.5' have right skewed value, we can handle the null values by two ways \n",
    "- dropping the records as there are only three null records\n",
    "- replacing the null values with the median value"
   ]
  },
  {
   "cell_type": "code",
   "execution_count": 6,
   "id": "87b0a691",
   "metadata": {},
   "outputs": [],
   "source": [
    "# replacing the null values with the median value\n",
    "\n",
    "df['PM 2.5'].fillna(df['PM 2.5'].median(), inplace = True)"
   ]
  },
  {
   "cell_type": "code",
   "execution_count": 7,
   "id": "f4ba53d3",
   "metadata": {},
   "outputs": [
    {
     "data": {
      "text/plain": [
       "T         0\n",
       "TM        0\n",
       "Tm        0\n",
       "SLP       0\n",
       "H         0\n",
       "VV        0\n",
       "V         0\n",
       "VM        0\n",
       "PM 2.5    0\n",
       "dtype: int64"
      ]
     },
     "execution_count": 7,
     "metadata": {},
     "output_type": "execute_result"
    }
   ],
   "source": [
    "# checking if the null values are replaced successfully\n",
    "\n",
    "df.isnull().sum()"
   ]
  },
  {
   "cell_type": "markdown",
   "id": "f164d6fe",
   "metadata": {},
   "source": [
    "## Observing the correlations between the features"
   ]
  },
  {
   "cell_type": "code",
   "execution_count": 8,
   "id": "290d0827",
   "metadata": {},
   "outputs": [
    {
     "data": {
      "image/png": "[encoded data removed]",
      "text/plain": [
       "<Figure size 1080x720 with 2 Axes>"
      ]
     },
     "metadata": {
      "needs_background": "light"
     },
     "output_type": "display_data"
    }
   ],
   "source": [
    "plt.figure(figsize=(15,10))\n",
    "sns.heatmap(df.corr(), cmap=\"YlGnBu\", annot=True)\n",
    "plt.show()"
   ]
  },
  {
   "cell_type": "markdown",
   "id": "45dd7531",
   "metadata": {},
   "source": [
    "From the heatmap we can easily identify the correlations between the features and understand their importance in predicting the values for 'PM 2.5'."
   ]
  },
  {
   "cell_type": "markdown",
   "id": "35ca58a1",
   "metadata": {},
   "source": [
    "### Dividing the data into dependent and independent features"
   ]
  },
  {
   "cell_type": "code",
   "execution_count": 9,
   "id": "6375647b",
   "metadata": {},
   "outputs": [],
   "source": [
    "# independent features\n",
    "x = df.iloc[:,:-1]\n",
    "\n",
    "# dependent features\n",
    "y = df.iloc[:,-1]"
   ]
  },
  {
   "cell_type": "code",
   "execution_count": 10,
   "id": "88504820",
   "metadata": {},
   "outputs": [
    {
     "name": "stdout",
     "output_type": "stream",
     "text": [
      "(1081, 8)   (1081,)\n"
     ]
    }
   ],
   "source": [
    "print(x.shape,' ',y.shape)"
   ]
  },
  {
   "cell_type": "markdown",
   "id": "ba98c6cc",
   "metadata": {},
   "source": [
    "### Understanding the feature importance"
   ]
  },
  {
   "cell_type": "code",
   "execution_count": 11,
   "id": "410dbf6c",
   "metadata": {},
   "outputs": [
    {
     "data": {
      "text/plain": [
       "ExtraTreesRegressor()"
      ]
     },
     "execution_count": 11,
     "metadata": {},
     "output_type": "execute_result"
    }
   ],
   "source": [
    "model = ExtraTreesRegressor()\n",
    "model.fit(x,y)"
   ]
  },
  {
   "cell_type": "code",
   "execution_count": 12,
   "id": "97da57ac",
   "metadata": {},
   "outputs": [
    {
     "data": {
      "text/plain": [
       "array([0.22336733, 0.07771642, 0.20785934, 0.16952151, 0.07286078,\n",
       "       0.14403608, 0.05344418, 0.05119437])"
      ]
     },
     "execution_count": 12,
     "metadata": {},
     "output_type": "execute_result"
    }
   ],
   "source": [
    "# identifying the importance of features\n",
    "\n",
    "model.feature_importances_"
   ]
  },
  {
   "cell_type": "code",
   "execution_count": 13,
   "id": "8ae5be33",
   "metadata": {},
   "outputs": [
    {
     "data": {
      "image/png": "[encoded data removed]",
      "text/plain": [
       "<Figure size 432x288 with 1 Axes>"
      ]
     },
     "metadata": {
      "needs_background": "light"
     },
     "output_type": "display_data"
    }
   ],
   "source": [
    "# visualizing the feature importance graphically\n",
    "\n",
    "feature_importance = pd.Series(model.feature_importances_, index = x.columns)\n",
    "feature_importance.nlargest(10).plot(kind = 'barh')\n",
    "plt.show()"
   ]
  },
  {
   "cell_type": "markdown",
   "id": "6367a625",
   "metadata": {},
   "source": [
    "## Train Test Split"
   ]
  },
  {
   "cell_type": "code",
   "execution_count": 14,
   "id": "121e2c03",
   "metadata": {},
   "outputs": [
    {
     "name": "stdout",
     "output_type": "stream",
     "text": [
      "(864, 8)   (864,)\n",
      "(217, 8)   (217,)\n"
     ]
    }
   ],
   "source": [
    "# splitting the data into train and test\n",
    "x_train, x_test, y_train, y_test = train_test_split(x, y, test_size = 0.2, random_state = 0)\n",
    "\n",
    "print(x_train.shape,' ',y_train.shape)\n",
    "print(x_test.shape,' ',y_test.shape)"
   ]
  },
  {
   "cell_type": "markdown",
   "id": "acb695c9",
   "metadata": {},
   "source": [
    "## Creating the XgBoost Regression Model"
   ]
  },
  {
   "cell_type": "code",
   "execution_count": 15,
   "id": "a7192280",
   "metadata": {},
   "outputs": [
    {
     "data": {
      "text/plain": [
       "XGBRegressor(base_score=0.5, booster='gbtree', colsample_bylevel=1,\n",
       "             colsample_bynode=1, colsample_bytree=1, gamma=0, gpu_id=-1,\n",
       "             importance_type='gain', interaction_constraints='',\n",
       "             learning_rate=0.300000012, max_delta_step=0, max_depth=6,\n",
       "             min_child_weight=1, missing=nan, monotone_constraints='()',\n",
       "             n_estimators=100, n_jobs=8, num_parallel_tree=1, random_state=0,\n",
       "             reg_alpha=0, reg_lambda=1, scale_pos_weight=1, subsample=1,\n",
       "             tree_method='exact', validate_parameters=1, verbosity=None)"
      ]
     },
     "execution_count": 15,
     "metadata": {},
     "output_type": "execute_result"
    }
   ],
   "source": [
    "# creating model\n",
    "\n",
    "xgbregressor = xgb.XGBRegressor()\n",
    "xgbregressor.fit(x_train, y_train)"
   ]
  },
  {
   "cell_type": "code",
   "execution_count": 16,
   "id": "6eb5a735",
   "metadata": {},
   "outputs": [
    {
     "name": "stdout",
     "output_type": "stream",
     "text": [
      "Model Score : 0.9977826516822755 for train data\n"
     ]
    }
   ],
   "source": [
    "# coefficient of determination of the prediction\n",
    "\n",
    "print('Model Score : {} for train data'.format(xgbregressor.score(x_train, y_train)))"
   ]
  },
  {
   "cell_type": "code",
   "execution_count": 17,
   "id": "b89c7c54",
   "metadata": {},
   "outputs": [
    {
     "name": "stdout",
     "output_type": "stream",
     "text": [
      "Model Score : 0.358900772658061 for test data\n"
     ]
    }
   ],
   "source": [
    "# coefficient of determination of the prediction\n",
    "\n",
    "print('Model Score : {} for test data'.format(xgbregressor.score(x_test, y_test)))"
   ]
  },
  {
   "cell_type": "markdown",
   "id": "ac21dd96",
   "metadata": {},
   "source": [
    "As we have directly fit the model without any Hyperparameter tuning which caused a overfitting condition, thus the accuracy for Train data is very high as compaired to the Test data."
   ]
  },
  {
   "cell_type": "code",
   "execution_count": 18,
   "id": "87988147",
   "metadata": {},
   "outputs": [],
   "source": [
    "# cross validating the model\n",
    "\n",
    "score = cross_val_score(xgbregressor, x, y, cv = 5)"
   ]
  },
  {
   "cell_type": "code",
   "execution_count": 19,
   "id": "e54e07e9",
   "metadata": {},
   "outputs": [
    {
     "data": {
      "text/plain": [
       "0.3706703502596654"
      ]
     },
     "execution_count": 19,
     "metadata": {},
     "output_type": "execute_result"
    }
   ],
   "source": [
    "# mean accuracy obtained on cross validation\n",
    "\n",
    "score.mean()"
   ]
  },
  {
   "cell_type": "code",
   "execution_count": 20,
   "id": "b4dadd8f",
   "metadata": {},
   "outputs": [],
   "source": [
    "# making predictions for test data\n",
    "\n",
    "pred = xgbregressor.predict(x_test)"
   ]
  },
  {
   "cell_type": "code",
   "execution_count": 21,
   "id": "3d4ad677",
   "metadata": {},
   "outputs": [
    {
     "name": "stderr",
     "output_type": "stream",
     "text": [
      "c:\\users\\prank\\appdata\\local\\programs\\python\\python37\\lib\\site-packages\\seaborn\\distributions.py:2557: FutureWarning: `distplot` is a deprecated function and will be removed in a future version. Please adapt your code to use either `displot` (a figure-level function with similar flexibility) or `histplot` (an axes-level function for histograms).\n",
      "  warnings.warn(msg, FutureWarning)\n"
     ]
    },
    {
     "data": {
      "text/plain": [
       "<AxesSubplot:xlabel='PM 2.5', ylabel='Density'>"
      ]
     },
     "execution_count": 21,
     "metadata": {},
     "output_type": "execute_result"
    },
    {
     "data": {
      "image/png": "[encoded data removed]",
      "text/plain": [
       "<Figure size 432x288 with 1 Axes>"
      ]
     },
     "metadata": {
      "needs_background": "light"
     },
     "output_type": "display_data"
    }
   ],
   "source": [
    "# observing the 'y_test - pred' graphically\n",
    "\n",
    "sns.distplot(y_test - pred)"
   ]
  },
  {
   "cell_type": "markdown",
   "id": "5d502d41",
   "metadata": {},
   "source": [
    "## Hyperparameter Tuning for XgBoost Regressor"
   ]
  },
  {
   "cell_type": "code",
   "execution_count": 22,
   "id": "4ae0b04e",
   "metadata": {},
   "outputs": [],
   "source": [
    "# parameters\n",
    "\n",
    "n_estimators = [int(x) for x in np.linspace(start = 100, stop = 1200, num = 12)]\n",
    "learning_rate = ['0.05', '0.1', '0.2', '0.3', '0.5', '0.6']\n",
    "max_depth = [int(x) for x in np.linspace(5, 30, num = 6)]\n",
    "subsample = [0.7, 0.6, 0.8]\n",
    "min_child_weight = [3, 4, 5, 6, 7]"
   ]
  },
  {
   "cell_type": "code",
   "execution_count": 23,
   "id": "9fbe6aa0",
   "metadata": {},
   "outputs": [],
   "source": [
    "# creating a dictionary for parameters to be optimised\n",
    "random_grid = {\n",
    "    'n_estimators':n_estimators,\n",
    "    'learning_rate':learning_rate,\n",
    "    'max_depth':max_depth,\n",
    "    'subsample':subsample,\n",
    "    'min_child_weight':min_child_weight\n",
    "}"
   ]
  },
  {
   "cell_type": "code",
   "execution_count": 24,
   "id": "8821d1a7",
   "metadata": {},
   "outputs": [],
   "source": [
    "# creating the base model\n",
    "\n",
    "xgbregressor = xgb.XGBRegressor()"
   ]
  },
  {
   "cell_type": "code",
   "execution_count": 25,
   "id": "0065b0c2",
   "metadata": {},
   "outputs": [],
   "source": [
    "# optimising the model by RandomizedSearchCV\n",
    "\n",
    "xgb_random = RandomizedSearchCV(estimator = xgbregressor, param_distributions = random_grid, scoring = 'neg_mean_squared_error',\n",
    "                          n_iter = 100, cv = 5, n_jobs = -1, verbose = 2)"
   ]
  },
  {
   "cell_type": "code",
   "execution_count": 26,
   "id": "d713f1a4",
   "metadata": {},
   "outputs": [
    {
     "name": "stdout",
     "output_type": "stream",
     "text": [
      "Fitting 5 folds for each of 100 candidates, totalling 500 fits\n"
     ]
    },
    {
     "data": {
      "text/plain": [
       "RandomizedSearchCV(cv=5,\n",
       "                   estimator=XGBRegressor(base_score=None, booster=None,\n",
       "                                          colsample_bylevel=None,\n",
       "                                          colsample_bynode=None,\n",
       "                                          colsample_bytree=None, gamma=None,\n",
       "                                          gpu_id=None, importance_type='gain',\n",
       "                                          interaction_constraints=None,\n",
       "                                          learning_rate=None,\n",
       "                                          max_delta_step=None, max_depth=None,\n",
       "                                          min_child_weight=None, missing=nan,\n",
       "                                          monotone_constraints=None,\n",
       "                                          n_estimators=100, n...\n",
       "                                          tree_method=None,\n",
       "                                          validate_parameters=None,\n",
       "                                          verbosity=None),\n",
       "                   n_iter=100, n_jobs=-1,\n",
       "                   param_distributions={'learning_rate': ['0.05', '0.1', '0.2',\n",
       "                                                          '0.3', '0.5', '0.6'],\n",
       "                                        'max_depth': [5, 10, 15, 20, 25, 30],\n",
       "                                        'min_child_weight': [3, 4, 5, 6, 7],\n",
       "                                        'n_estimators': [100, 200, 300, 400,\n",
       "                                                         500, 600, 700, 800,\n",
       "                                                         900, 1000, 1100,\n",
       "                                                         1200],\n",
       "                                        'subsample': [0.7, 0.6, 0.8]},\n",
       "                   scoring='neg_mean_squared_error', verbose=2)"
      ]
     },
     "execution_count": 26,
     "metadata": {},
     "output_type": "execute_result"
    }
   ],
   "source": [
    "# fitting the best model obtained on Train data\n",
    "\n",
    "xgb_random.fit(x_train, y_train)"
   ]
  },
  {
   "cell_type": "code",
   "execution_count": 27,
   "id": "96961c0f",
   "metadata": {},
   "outputs": [
    {
     "name": "stdout",
     "output_type": "stream",
     "text": [
      "{'subsample': 0.8, 'n_estimators': 100, 'min_child_weight': 3, 'max_depth': 5, 'learning_rate': '0.05'}\n",
      "-3437.5882735138875\n"
     ]
    }
   ],
   "source": [
    "# obtaining the best parameters and best score\n",
    "print(xgb_random.best_params_)\n",
    "print(xgb_random.best_score_)"
   ]
  },
  {
   "cell_type": "code",
   "execution_count": 28,
   "id": "483dfc6f",
   "metadata": {},
   "outputs": [],
   "source": [
    "# making predictions for test data with the optimised model\n",
    "\n",
    "pred = xgb_random.predict(x_test)"
   ]
  },
  {
   "cell_type": "code",
   "execution_count": 29,
   "id": "443b0583",
   "metadata": {},
   "outputs": [
    {
     "name": "stderr",
     "output_type": "stream",
     "text": [
      "c:\\users\\prank\\appdata\\local\\programs\\python\\python37\\lib\\site-packages\\seaborn\\distributions.py:2557: FutureWarning: `distplot` is a deprecated function and will be removed in a future version. Please adapt your code to use either `displot` (a figure-level function with similar flexibility) or `histplot` (an axes-level function for histograms).\n",
      "  warnings.warn(msg, FutureWarning)\n"
     ]
    },
    {
     "data": {
      "text/plain": [
       "<AxesSubplot:xlabel='PM 2.5', ylabel='Density'>"
      ]
     },
     "execution_count": 29,
     "metadata": {},
     "output_type": "execute_result"
    },
    {
     "data": {
      "image/png": "[encoded data removed]",
      "text/plain": [
       "<Figure size 432x288 with 1 Axes>"
      ]
     },
     "metadata": {
      "needs_background": "light"
     },
     "output_type": "display_data"
    }
   ],
   "source": [
    "# observing the 'y_test - pred' graphically for the optimised model\n",
    "\n",
    "sns.distplot(y_test - pred)"
   ]
  },
  {
   "cell_type": "markdown",
   "id": "81110154",
   "metadata": {},
   "source": [
    "## Evaluation Metrics"
   ]
  },
  {
   "cell_type": "code",
   "execution_count": 30,
   "id": "b082f10d",
   "metadata": {},
   "outputs": [
    {
     "name": "stdout",
     "output_type": "stream",
     "text": [
      "MAE :  41.56939954274261\n",
      "MSE :  3556.4640110322994\n",
      "RMSE :  59.63609654422646\n"
     ]
    }
   ],
   "source": [
    "# observing 'MAE', 'MSE', 'RMSE'\n",
    "\n",
    "print('MAE : ', metrics.mean_absolute_error(y_test,pred))\n",
    "print('MSE : ', metrics.mean_squared_error(y_test,pred))\n",
    "print('RMSE : ', np.sqrt(metrics.mean_squared_error(y_test,pred)))"
   ]
  }
 ],
 "metadata": {
  "kernelspec": {
   "display_name": "Python 3",
   "language": "python",
   "name": "python3"
  },
  "language_info": {
   "codemirror_mode": {
    "name": "ipython",
    "version": 3
   },
   "file_extension": ".py",
   "mimetype": "text/x-python",
   "name": "python",
   "nbconvert_exporter": "python",
   "pygments_lexer": "ipython3",
   "version": "3.7.6"
  }
 },
 "nbformat": 4,
 "nbformat_minor": 5
}
