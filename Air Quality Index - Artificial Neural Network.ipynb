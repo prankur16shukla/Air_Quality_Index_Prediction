{
 "cells": [
  {
   "cell_type": "markdown",
   "id": "4aeaaf0a",
   "metadata": {},
   "source": [
    "# Artificial Neural Network Regression on the Collected Data"
   ]
  },
  {
   "cell_type": "markdown",
   "id": "ee645a6e",
   "metadata": {},
   "source": [
    "In this Jupyter notebook we will be applying the Artificial Neural Network Regression on the data that we have extracted (Real_Combine.csv) and try to make predictions for the AQI (PM 2.5) based on different factors :\n",
    "\n",
    "- T\t:   Average temperature (°C)\n",
    "- TM:\tMaximum temperature (°C)\n",
    "- Tm:\tMinimum temperature (°C)\n",
    "- SLP:\tAtmospheric pressure at sea level (hPa)\n",
    "- H\t:   Average relative humidity (%)\n",
    "- VV:\tAverage visibility (Km)\n",
    "- V :   Average wind speed (Km/h)\n",
    "- VM:\tMaximum sustained wind speed (Km/h)"
   ]
  },
  {
   "cell_type": "markdown",
   "id": "783841a7",
   "metadata": {},
   "source": [
    "## Importing the important libraries required"
   ]
  },
  {
   "cell_type": "code",
   "execution_count": 1,
   "id": "636e9696",
   "metadata": {},
   "outputs": [],
   "source": [
    "import numpy as np\n",
    "import pandas as pd\n",
    "import seaborn as sns\n",
    "import scipy.stats as stats\n",
    "import matplotlib.pyplot as plt\n",
    "%matplotlib inline\n",
    "\n",
    "from sklearn.ensemble import ExtraTreesRegressor\n",
    "from sklearn.model_selection import train_test_split, cross_val_score\n",
    "import keras\n",
    "from tensorflow import keras\n",
    "from keras.models import Sequential\n",
    "from keras.layers import Dense\n",
    "from keras.layers import LeakyReLU, PReLU, ELU\n",
    "from keras.layers import Dropout\n",
    "from sklearn import metrics\n",
    "from keras_tuner.tuners import RandomSearch"
   ]
  },
  {
   "cell_type": "markdown",
   "id": "dbed86a8",
   "metadata": {},
   "source": [
    "## Reading the Dataset"
   ]
  },
  {
   "cell_type": "code",
   "execution_count": 2,
   "id": "57a310c3",
   "metadata": {},
   "outputs": [],
   "source": [
    "df = pd.read_csv('Data\\Real-Data\\Real_Combine.csv')"
   ]
  },
  {
   "cell_type": "code",
   "execution_count": 3,
   "id": "93a3b33a",
   "metadata": {},
   "outputs": [
    {
     "data": {
      "text/html": [
       "<div>\n",
       "<style scoped>\n",
       "    .dataframe tbody tr th:only-of-type {\n",
       "        vertical-align: middle;\n",
       "    }\n",
       "\n",
       "    .dataframe tbody tr th {\n",
       "        vertical-align: top;\n",
       "    }\n",
       "\n",
       "    .dataframe thead th {\n",
       "        text-align: right;\n",
       "    }\n",
       "</style>\n",
       "<table border=\"1\" class=\"dataframe\">\n",
       "  <thead>\n",
       "    <tr style=\"text-align: right;\">\n",
       "      <th></th>\n",
       "      <th>T</th>\n",
       "      <th>TM</th>\n",
       "      <th>Tm</th>\n",
       "      <th>SLP</th>\n",
       "      <th>H</th>\n",
       "      <th>VV</th>\n",
       "      <th>V</th>\n",
       "      <th>VM</th>\n",
       "      <th>PM 2.5</th>\n",
       "    </tr>\n",
       "  </thead>\n",
       "  <tbody>\n",
       "    <tr>\n",
       "      <th>0</th>\n",
       "      <td>14.9</td>\n",
       "      <td>21.6</td>\n",
       "      <td>8.8</td>\n",
       "      <td>1017.4</td>\n",
       "      <td>76.0</td>\n",
       "      <td>0.8</td>\n",
       "      <td>0.9</td>\n",
       "      <td>7.6</td>\n",
       "      <td>172.750000</td>\n",
       "    </tr>\n",
       "    <tr>\n",
       "      <th>1</th>\n",
       "      <td>14.7</td>\n",
       "      <td>21.6</td>\n",
       "      <td>10.2</td>\n",
       "      <td>1018.1</td>\n",
       "      <td>97.0</td>\n",
       "      <td>0.6</td>\n",
       "      <td>3.1</td>\n",
       "      <td>9.4</td>\n",
       "      <td>146.791667</td>\n",
       "    </tr>\n",
       "    <tr>\n",
       "      <th>2</th>\n",
       "      <td>15.0</td>\n",
       "      <td>16.8</td>\n",
       "      <td>13.6</td>\n",
       "      <td>1017.5</td>\n",
       "      <td>94.0</td>\n",
       "      <td>0.5</td>\n",
       "      <td>0.9</td>\n",
       "      <td>7.6</td>\n",
       "      <td>113.875000</td>\n",
       "    </tr>\n",
       "    <tr>\n",
       "      <th>3</th>\n",
       "      <td>9.8</td>\n",
       "      <td>17.6</td>\n",
       "      <td>6.4</td>\n",
       "      <td>1016.6</td>\n",
       "      <td>90.0</td>\n",
       "      <td>0.5</td>\n",
       "      <td>3.9</td>\n",
       "      <td>11.1</td>\n",
       "      <td>227.000000</td>\n",
       "    </tr>\n",
       "    <tr>\n",
       "      <th>4</th>\n",
       "      <td>10.1</td>\n",
       "      <td>14.5</td>\n",
       "      <td>7.2</td>\n",
       "      <td>1019.2</td>\n",
       "      <td>90.0</td>\n",
       "      <td>0.3</td>\n",
       "      <td>3.3</td>\n",
       "      <td>7.6</td>\n",
       "      <td>231.250000</td>\n",
       "    </tr>\n",
       "    <tr>\n",
       "      <th>...</th>\n",
       "      <td>...</td>\n",
       "      <td>...</td>\n",
       "      <td>...</td>\n",
       "      <td>...</td>\n",
       "      <td>...</td>\n",
       "      <td>...</td>\n",
       "      <td>...</td>\n",
       "      <td>...</td>\n",
       "      <td>...</td>\n",
       "    </tr>\n",
       "    <tr>\n",
       "      <th>1076</th>\n",
       "      <td>13.9</td>\n",
       "      <td>23.2</td>\n",
       "      <td>5.5</td>\n",
       "      <td>1017.2</td>\n",
       "      <td>69.0</td>\n",
       "      <td>1.0</td>\n",
       "      <td>4.1</td>\n",
       "      <td>13.0</td>\n",
       "      <td>375.791667</td>\n",
       "    </tr>\n",
       "    <tr>\n",
       "      <th>1077</th>\n",
       "      <td>13.0</td>\n",
       "      <td>23.1</td>\n",
       "      <td>4.6</td>\n",
       "      <td>1017.0</td>\n",
       "      <td>74.0</td>\n",
       "      <td>1.1</td>\n",
       "      <td>3.5</td>\n",
       "      <td>9.4</td>\n",
       "      <td>223.250000</td>\n",
       "    </tr>\n",
       "    <tr>\n",
       "      <th>1078</th>\n",
       "      <td>13.3</td>\n",
       "      <td>22.4</td>\n",
       "      <td>4.4</td>\n",
       "      <td>1016.5</td>\n",
       "      <td>72.0</td>\n",
       "      <td>1.1</td>\n",
       "      <td>5.2</td>\n",
       "      <td>9.4</td>\n",
       "      <td>248.958333</td>\n",
       "    </tr>\n",
       "    <tr>\n",
       "      <th>1079</th>\n",
       "      <td>15.0</td>\n",
       "      <td>21.9</td>\n",
       "      <td>6.0</td>\n",
       "      <td>1013.5</td>\n",
       "      <td>68.0</td>\n",
       "      <td>1.0</td>\n",
       "      <td>5.4</td>\n",
       "      <td>11.1</td>\n",
       "      <td>441.416667</td>\n",
       "    </tr>\n",
       "    <tr>\n",
       "      <th>1080</th>\n",
       "      <td>10.7</td>\n",
       "      <td>17.0</td>\n",
       "      <td>3.3</td>\n",
       "      <td>1018.7</td>\n",
       "      <td>82.0</td>\n",
       "      <td>0.5</td>\n",
       "      <td>4.8</td>\n",
       "      <td>9.4</td>\n",
       "      <td>NaN</td>\n",
       "    </tr>\n",
       "  </tbody>\n",
       "</table>\n",
       "<p>1081 rows × 9 columns</p>\n",
       "</div>"
      ],
      "text/plain": [
       "         T    TM    Tm     SLP     H   VV    V    VM      PM 2.5\n",
       "0     14.9  21.6   8.8  1017.4  76.0  0.8  0.9   7.6  172.750000\n",
       "1     14.7  21.6  10.2  1018.1  97.0  0.6  3.1   9.4  146.791667\n",
       "2     15.0  16.8  13.6  1017.5  94.0  0.5  0.9   7.6  113.875000\n",
       "3      9.8  17.6   6.4  1016.6  90.0  0.5  3.9  11.1  227.000000\n",
       "4     10.1  14.5   7.2  1019.2  90.0  0.3  3.3   7.6  231.250000\n",
       "...    ...   ...   ...     ...   ...  ...  ...   ...         ...\n",
       "1076  13.9  23.2   5.5  1017.2  69.0  1.0  4.1  13.0  375.791667\n",
       "1077  13.0  23.1   4.6  1017.0  74.0  1.1  3.5   9.4  223.250000\n",
       "1078  13.3  22.4   4.4  1016.5  72.0  1.1  5.2   9.4  248.958333\n",
       "1079  15.0  21.9   6.0  1013.5  68.0  1.0  5.4  11.1  441.416667\n",
       "1080  10.7  17.0   3.3  1018.7  82.0  0.5  4.8   9.4         NaN\n",
       "\n",
       "[1081 rows x 9 columns]"
      ]
     },
     "execution_count": 3,
     "metadata": {},
     "output_type": "execute_result"
    }
   ],
   "source": [
    "# Visualizing the data\n",
    "df"
   ]
  },
  {
   "cell_type": "markdown",
   "id": "7dbcd664",
   "metadata": {},
   "source": [
    "Here we can see that we are having 1081 rows and 9 columns (features). Where T, TM, Tm, SLP, H, VV, V, VM are the independent features and PM 2.5 is the dependent feature."
   ]
  },
  {
   "cell_type": "code",
   "execution_count": 4,
   "id": "0bcaec50",
   "metadata": {},
   "outputs": [
    {
     "data": {
      "text/plain": [
       "T         0\n",
       "TM        0\n",
       "Tm        0\n",
       "SLP       0\n",
       "H         0\n",
       "VV        0\n",
       "V         0\n",
       "VM        0\n",
       "PM 2.5    3\n",
       "dtype: int64"
      ]
     },
     "execution_count": 4,
     "metadata": {},
     "output_type": "execute_result"
    }
   ],
   "source": [
    "# checking for null values in Data\n",
    "\n",
    "df.isnull().sum()"
   ]
  },
  {
   "cell_type": "markdown",
   "id": "25b9f2eb",
   "metadata": {},
   "source": [
    "Here we can see that we are having 3 null values in the Target feature that needs to handled."
   ]
  },
  {
   "cell_type": "code",
   "execution_count": 5,
   "id": "0cc373a0",
   "metadata": {},
   "outputs": [
    {
     "name": "stderr",
     "output_type": "stream",
     "text": [
      "c:\\users\\prank\\appdata\\local\\programs\\python\\python37\\lib\\site-packages\\seaborn\\distributions.py:2557: FutureWarning: `distplot` is a deprecated function and will be removed in a future version. Please adapt your code to use either `displot` (a figure-level function with similar flexibility) or `histplot` (an axes-level function for histograms).\n",
      "  warnings.warn(msg, FutureWarning)\n"
     ]
    },
    {
     "data": {
      "image/png": "[encoded data removed]",
      "text/plain": [
       "<Figure size 864x360 with 2 Axes>"
      ]
     },
     "metadata": {
      "needs_background": "light"
     },
     "output_type": "display_data"
    }
   ],
   "source": [
    "# observing the distribution of 'PM 2.5' target value\n",
    "\n",
    "plt.figure(figsize=(12,5))\n",
    "plt.subplot(1,2,1)\n",
    "sns.distplot(df['PM 2.5'])\n",
    "plt.title('Distribution Plot')\n",
    "\n",
    "plt.subplot(1,2,2)\n",
    "stats.probplot(df['PM 2.5'], dist=\"norm\", plot=plt)\n",
    "plt.tight_layout()"
   ]
  },
  {
   "cell_type": "markdown",
   "id": "79d94405",
   "metadata": {},
   "source": [
    "It can be seen that the target variable 'PM 2.5' have right skewed value, we can handle the null values by two ways \n",
    "- dropping the records as there are only three null records\n",
    "- replacing the null values with the median value"
   ]
  },
  {
   "cell_type": "code",
   "execution_count": 6,
   "id": "87b0a691",
   "metadata": {},
   "outputs": [],
   "source": [
    "# replacing the null values with the median value\n",
    "\n",
    "df['PM 2.5'].fillna(df['PM 2.5'].median(), inplace = True)"
   ]
  },
  {
   "cell_type": "code",
   "execution_count": 7,
   "id": "f4ba53d3",
   "metadata": {},
   "outputs": [
    {
     "data": {
      "text/plain": [
       "T         0\n",
       "TM        0\n",
       "Tm        0\n",
       "SLP       0\n",
       "H         0\n",
       "VV        0\n",
       "V         0\n",
       "VM        0\n",
       "PM 2.5    0\n",
       "dtype: int64"
      ]
     },
     "execution_count": 7,
     "metadata": {},
     "output_type": "execute_result"
    }
   ],
   "source": [
    "# checking if the null values are replaced successfully\n",
    "\n",
    "df.isnull().sum()"
   ]
  },
  {
   "cell_type": "markdown",
   "id": "f164d6fe",
   "metadata": {},
   "source": [
    "## Observing the correlations between the features"
   ]
  },
  {
   "cell_type": "code",
   "execution_count": 8,
   "id": "290d0827",
   "metadata": {},
   "outputs": [
    {
     "data": {
      "image/png": "[encoded data removed]",
      "text/plain": [
       "<Figure size 1080x720 with 2 Axes>"
      ]
     },
     "metadata": {
      "needs_background": "light"
     },
     "output_type": "display_data"
    }
   ],
   "source": [
    "plt.figure(figsize=(15,10))\n",
    "sns.heatmap(df.corr(), cmap=\"YlGnBu\", annot=True)\n",
    "plt.show()"
   ]
  },
  {
   "cell_type": "markdown",
   "id": "45dd7531",
   "metadata": {},
   "source": [
    "From the heatmap we can easily identify the correlations between the features and understand their importance in predicting the values for 'PM 2.5'."
   ]
  },
  {
   "cell_type": "markdown",
   "id": "35ca58a1",
   "metadata": {},
   "source": [
    "### Dividing the data into dependent and independent features"
   ]
  },
  {
   "cell_type": "code",
   "execution_count": 9,
   "id": "6375647b",
   "metadata": {},
   "outputs": [],
   "source": [
    "# independent features\n",
    "x = df.iloc[:,:-1]\n",
    "\n",
    "# dependent features\n",
    "y = df.iloc[:,-1]"
   ]
  },
  {
   "cell_type": "code",
   "execution_count": 10,
   "id": "88504820",
   "metadata": {},
   "outputs": [
    {
     "name": "stdout",
     "output_type": "stream",
     "text": [
      "(1081, 8)   (1081,)\n"
     ]
    }
   ],
   "source": [
    "print(x.shape,' ',y.shape)"
   ]
  },
  {
   "cell_type": "markdown",
   "id": "ba98c6cc",
   "metadata": {},
   "source": [
    "### Understanding the feature importance"
   ]
  },
  {
   "cell_type": "code",
   "execution_count": 11,
   "id": "410dbf6c",
   "metadata": {},
   "outputs": [
    {
     "data": {
      "text/plain": [
       "ExtraTreesRegressor()"
      ]
     },
     "execution_count": 11,
     "metadata": {},
     "output_type": "execute_result"
    }
   ],
   "source": [
    "model = ExtraTreesRegressor()\n",
    "model.fit(x,y)"
   ]
  },
  {
   "cell_type": "code",
   "execution_count": 12,
   "id": "97da57ac",
   "metadata": {},
   "outputs": [
    {
     "data": {
      "text/plain": [
       "array([0.18299164, 0.097935  , 0.20676971, 0.18234369, 0.07281844,\n",
       "       0.15332658, 0.05308928, 0.05072566])"
      ]
     },
     "execution_count": 12,
     "metadata": {},
     "output_type": "execute_result"
    }
   ],
   "source": [
    "# identifying the importance of features\n",
    "\n",
    "model.feature_importances_"
   ]
  },
  {
   "cell_type": "code",
   "execution_count": 13,
   "id": "8ae5be33",
   "metadata": {},
   "outputs": [
    {
     "data": {
      "image/png": "[encoded data removed]",
      "text/plain": [
       "<Figure size 432x288 with 1 Axes>"
      ]
     },
     "metadata": {
      "needs_background": "light"
     },
     "output_type": "display_data"
    }
   ],
   "source": [
    "# visualizing the feature importance graphically\n",
    "\n",
    "feature_importance = pd.Series(model.feature_importances_, index = x.columns)\n",
    "feature_importance.nlargest(10).plot(kind = 'barh')\n",
    "plt.show()"
   ]
  },
  {
   "cell_type": "markdown",
   "id": "6367a625",
   "metadata": {},
   "source": [
    "## Train Test Split"
   ]
  },
  {
   "cell_type": "code",
   "execution_count": 14,
   "id": "121e2c03",
   "metadata": {},
   "outputs": [
    {
     "name": "stdout",
     "output_type": "stream",
     "text": [
      "(864, 8)   (864,)\n",
      "(217, 8)   (217,)\n"
     ]
    }
   ],
   "source": [
    "# splitting the data into train and test\n",
    "x_train, x_test, y_train, y_test = train_test_split(x, y, test_size = 0.2, random_state = 0)\n",
    "\n",
    "print(x_train.shape,' ',y_train.shape)\n",
    "print(x_test.shape,' ',y_test.shape)"
   ]
  },
  {
   "cell_type": "markdown",
   "id": "acb695c9",
   "metadata": {},
   "source": [
    "## Creating the ANN Regression Model"
   ]
  },
  {
   "cell_type": "code",
   "execution_count": 15,
   "id": "a7192280",
   "metadata": {},
   "outputs": [
    {
     "name": "stdout",
     "output_type": "stream",
     "text": [
      "Model: \"sequential\"\n",
      "_________________________________________________________________\n",
      "Layer (type)                 Output Shape              Param #   \n",
      "=================================================================\n",
      "dense (Dense)                (None, 128)               1152      \n",
      "_________________________________________________________________\n",
      "dense_1 (Dense)              (None, 256)               33024     \n",
      "_________________________________________________________________\n",
      "dense_2 (Dense)              (None, 256)               65792     \n",
      "_________________________________________________________________\n",
      "dense_3 (Dense)              (None, 256)               65792     \n",
      "_________________________________________________________________\n",
      "dense_4 (Dense)              (None, 1)                 257       \n",
      "=================================================================\n",
      "Total params: 166,017\n",
      "Trainable params: 166,017\n",
      "Non-trainable params: 0\n",
      "_________________________________________________________________\n",
      "Epoch 1/100\n",
      "58/58 [==============================] - 1s 5ms/step - loss: 72.5123 - mean_absolute_error: 72.5123 - val_loss: 63.6415 - val_mean_absolute_error: 63.6415\n",
      "Epoch 2/100\n",
      "58/58 [==============================] - 0s 2ms/step - loss: 67.9742 - mean_absolute_error: 67.9742 - val_loss: 70.7878 - val_mean_absolute_error: 70.7878\n",
      "Epoch 3/100\n",
      "58/58 [==============================] - 0s 2ms/step - loss: 66.8999 - mean_absolute_error: 66.8999 - val_loss: 62.3507 - val_mean_absolute_error: 62.3507\n",
      "Epoch 4/100\n",
      "58/58 [==============================] - 0s 3ms/step - loss: 63.2209 - mean_absolute_error: 63.2209 - val_loss: 58.2324 - val_mean_absolute_error: 58.2324\n",
      "Epoch 5/100\n",
      "58/58 [==============================] - 0s 3ms/step - loss: 58.0225 - mean_absolute_error: 58.0225 - val_loss: 56.2695 - val_mean_absolute_error: 56.2695\n",
      "Epoch 6/100\n",
      "58/58 [==============================] - 0s 2ms/step - loss: 51.2705 - mean_absolute_error: 51.2705 - val_loss: 55.7050 - val_mean_absolute_error: 55.7050\n",
      "Epoch 7/100\n",
      "58/58 [==============================] - 0s 3ms/step - loss: 47.7665 - mean_absolute_error: 47.7665 - val_loss: 46.0020 - val_mean_absolute_error: 46.0020\n",
      "Epoch 8/100\n",
      "58/58 [==============================] - 0s 3ms/step - loss: 47.2050 - mean_absolute_error: 47.2050 - val_loss: 45.5884 - val_mean_absolute_error: 45.5883\n",
      "Epoch 9/100\n",
      "58/58 [==============================] - 0s 3ms/step - loss: 48.1937 - mean_absolute_error: 48.1937 - val_loss: 55.4234 - val_mean_absolute_error: 55.4234\n",
      "Epoch 10/100\n",
      "58/58 [==============================] - 0s 2ms/step - loss: 46.5030 - mean_absolute_error: 46.5030 - val_loss: 45.8165 - val_mean_absolute_error: 45.8165\n",
      "Epoch 11/100\n",
      "58/58 [==============================] - 0s 3ms/step - loss: 47.5613 - mean_absolute_error: 47.5613 - val_loss: 52.3123 - val_mean_absolute_error: 52.3123\n",
      "Epoch 12/100\n",
      "58/58 [==============================] - 0s 3ms/step - loss: 46.4808 - mean_absolute_error: 46.4808 - val_loss: 47.3970 - val_mean_absolute_error: 47.3970\n",
      "Epoch 13/100\n",
      "58/58 [==============================] - 0s 2ms/step - loss: 46.0986 - mean_absolute_error: 46.0986 - val_loss: 45.6543 - val_mean_absolute_error: 45.6543\n",
      "Epoch 14/100\n",
      "58/58 [==============================] - 0s 2ms/step - loss: 45.6585 - mean_absolute_error: 45.6585 - val_loss: 47.4049 - val_mean_absolute_error: 47.4049\n",
      "Epoch 15/100\n",
      "58/58 [==============================] - 0s 2ms/step - loss: 47.4473 - mean_absolute_error: 47.4473 - val_loss: 45.0468 - val_mean_absolute_error: 45.0468\n",
      "Epoch 16/100\n",
      "58/58 [==============================] - 0s 3ms/step - loss: 45.8967 - mean_absolute_error: 45.8967 - val_loss: 44.5913 - val_mean_absolute_error: 44.5913\n",
      "Epoch 17/100\n",
      "58/58 [==============================] - 0s 2ms/step - loss: 45.6720 - mean_absolute_error: 45.6720 - val_loss: 47.3552 - val_mean_absolute_error: 47.3552\n",
      "Epoch 18/100\n",
      "58/58 [==============================] - 0s 2ms/step - loss: 45.0479 - mean_absolute_error: 45.0479 - val_loss: 45.2633 - val_mean_absolute_error: 45.2633\n",
      "Epoch 19/100\n",
      "58/58 [==============================] - 0s 3ms/step - loss: 45.9315 - mean_absolute_error: 45.9315 - val_loss: 45.0500 - val_mean_absolute_error: 45.0500\n",
      "Epoch 20/100\n",
      "58/58 [==============================] - 0s 2ms/step - loss: 44.9264 - mean_absolute_error: 44.9264 - val_loss: 45.1621 - val_mean_absolute_error: 45.1621\n",
      "Epoch 21/100\n",
      "58/58 [==============================] - 0s 3ms/step - loss: 45.0145 - mean_absolute_error: 45.0145 - val_loss: 46.4799 - val_mean_absolute_error: 46.4799\n",
      "Epoch 22/100\n",
      "58/58 [==============================] - 0s 2ms/step - loss: 45.8913 - mean_absolute_error: 45.8913 - val_loss: 46.7283 - val_mean_absolute_error: 46.7283\n",
      "Epoch 23/100\n",
      "58/58 [==============================] - 0s 3ms/step - loss: 45.9342 - mean_absolute_error: 45.9342 - val_loss: 44.7616 - val_mean_absolute_error: 44.7616\n",
      "Epoch 24/100\n",
      "58/58 [==============================] - 0s 2ms/step - loss: 44.8144 - mean_absolute_error: 44.8144 - val_loss: 43.8358 - val_mean_absolute_error: 43.8358\n",
      "Epoch 25/100\n",
      "58/58 [==============================] - 0s 3ms/step - loss: 44.3217 - mean_absolute_error: 44.3217 - val_loss: 48.4355 - val_mean_absolute_error: 48.4355\n",
      "Epoch 26/100\n",
      "58/58 [==============================] - 0s 2ms/step - loss: 44.7410 - mean_absolute_error: 44.7410 - val_loss: 47.8200 - val_mean_absolute_error: 47.8200\n",
      "Epoch 27/100\n",
      "58/58 [==============================] - 0s 2ms/step - loss: 44.3474 - mean_absolute_error: 44.3474 - val_loss: 46.3416 - val_mean_absolute_error: 46.3416\n",
      "Epoch 28/100\n",
      "58/58 [==============================] - 0s 2ms/step - loss: 44.1600 - mean_absolute_error: 44.1600 - val_loss: 45.3914 - val_mean_absolute_error: 45.3914\n",
      "Epoch 29/100\n",
      "58/58 [==============================] - 0s 2ms/step - loss: 44.2103 - mean_absolute_error: 44.2103 - val_loss: 46.3808 - val_mean_absolute_error: 46.3808\n",
      "Epoch 30/100\n",
      "58/58 [==============================] - 0s 3ms/step - loss: 44.1846 - mean_absolute_error: 44.1846 - val_loss: 45.4855 - val_mean_absolute_error: 45.4855\n",
      "Epoch 31/100\n",
      "58/58 [==============================] - 0s 3ms/step - loss: 45.3123 - mean_absolute_error: 45.3123 - val_loss: 47.4683 - val_mean_absolute_error: 47.4683\n",
      "Epoch 32/100\n",
      "58/58 [==============================] - 0s 3ms/step - loss: 45.2174 - mean_absolute_error: 45.2174 - val_loss: 44.1672 - val_mean_absolute_error: 44.1672\n",
      "Epoch 33/100\n",
      "58/58 [==============================] - 0s 2ms/step - loss: 43.2533 - mean_absolute_error: 43.2533 - val_loss: 45.2890 - val_mean_absolute_error: 45.2890\n",
      "Epoch 34/100\n",
      "58/58 [==============================] - 0s 2ms/step - loss: 44.1737 - mean_absolute_error: 44.1737 - val_loss: 44.1283 - val_mean_absolute_error: 44.1283\n",
      "Epoch 35/100\n",
      "58/58 [==============================] - 0s 3ms/step - loss: 45.5729 - mean_absolute_error: 45.5729 - val_loss: 44.0283 - val_mean_absolute_error: 44.0283\n",
      "Epoch 36/100\n",
      "58/58 [==============================] - 0s 2ms/step - loss: 43.9467 - mean_absolute_error: 43.9467 - val_loss: 44.7146 - val_mean_absolute_error: 44.7146\n",
      "Epoch 37/100\n",
      "58/58 [==============================] - 0s 2ms/step - loss: 43.9867 - mean_absolute_error: 43.9867 - val_loss: 47.4839 - val_mean_absolute_error: 47.4839\n",
      "Epoch 38/100\n",
      "58/58 [==============================] - 0s 2ms/step - loss: 44.2096 - mean_absolute_error: 44.2096 - val_loss: 46.0526 - val_mean_absolute_error: 46.0526\n",
      "Epoch 39/100\n",
      "58/58 [==============================] - 0s 2ms/step - loss: 44.4649 - mean_absolute_error: 44.4649 - val_loss: 43.6267 - val_mean_absolute_error: 43.6267\n",
      "Epoch 40/100\n",
      "58/58 [==============================] - 0s 2ms/step - loss: 43.2381 - mean_absolute_error: 43.2381 - val_loss: 44.1532 - val_mean_absolute_error: 44.1532\n",
      "Epoch 41/100\n",
      "58/58 [==============================] - 0s 2ms/step - loss: 43.4541 - mean_absolute_error: 43.4541 - val_loss: 43.6141 - val_mean_absolute_error: 43.6141\n",
      "Epoch 42/100\n",
      "58/58 [==============================] - 0s 2ms/step - loss: 44.9397 - mean_absolute_error: 44.9397 - val_loss: 44.3812 - val_mean_absolute_error: 44.3812\n",
      "Epoch 43/100\n",
      "58/58 [==============================] - 0s 2ms/step - loss: 43.4941 - mean_absolute_error: 43.4941 - val_loss: 43.6286 - val_mean_absolute_error: 43.6286\n"
     ]
    },
    {
     "name": "stdout",
     "output_type": "stream",
     "text": [
      "Epoch 44/100\n",
      "58/58 [==============================] - 0s 2ms/step - loss: 43.8712 - mean_absolute_error: 43.8712 - val_loss: 43.6967 - val_mean_absolute_error: 43.6967\n",
      "Epoch 45/100\n",
      "58/58 [==============================] - 0s 2ms/step - loss: 48.1380 - mean_absolute_error: 48.1380 - val_loss: 44.6625 - val_mean_absolute_error: 44.6625\n",
      "Epoch 46/100\n",
      "58/58 [==============================] - 0s 2ms/step - loss: 45.9347 - mean_absolute_error: 45.9347 - val_loss: 45.5846 - val_mean_absolute_error: 45.5846\n",
      "Epoch 47/100\n",
      "58/58 [==============================] - 0s 2ms/step - loss: 44.5495 - mean_absolute_error: 44.5495 - val_loss: 44.8257 - val_mean_absolute_error: 44.8257\n",
      "Epoch 48/100\n",
      "58/58 [==============================] - 0s 2ms/step - loss: 45.3230 - mean_absolute_error: 45.3230 - val_loss: 44.7573 - val_mean_absolute_error: 44.7573\n",
      "Epoch 49/100\n",
      "58/58 [==============================] - 0s 2ms/step - loss: 44.2653 - mean_absolute_error: 44.2653 - val_loss: 46.8449 - val_mean_absolute_error: 46.8449\n",
      "Epoch 50/100\n",
      "58/58 [==============================] - 0s 2ms/step - loss: 44.5113 - mean_absolute_error: 44.5113 - val_loss: 46.0478 - val_mean_absolute_error: 46.0478\n",
      "Epoch 51/100\n",
      "58/58 [==============================] - 0s 2ms/step - loss: 47.6384 - mean_absolute_error: 47.6384 - val_loss: 44.1167 - val_mean_absolute_error: 44.1167\n",
      "Epoch 52/100\n",
      "58/58 [==============================] - 0s 2ms/step - loss: 43.5939 - mean_absolute_error: 43.5939 - val_loss: 44.3067 - val_mean_absolute_error: 44.3067\n",
      "Epoch 53/100\n",
      "58/58 [==============================] - 0s 2ms/step - loss: 43.6654 - mean_absolute_error: 43.6654 - val_loss: 44.6559 - val_mean_absolute_error: 44.6559\n",
      "Epoch 54/100\n",
      "58/58 [==============================] - 0s 2ms/step - loss: 43.4610 - mean_absolute_error: 43.4610 - val_loss: 44.6075 - val_mean_absolute_error: 44.6075\n",
      "Epoch 55/100\n",
      "58/58 [==============================] - 0s 2ms/step - loss: 43.8219 - mean_absolute_error: 43.8219 - val_loss: 45.4253 - val_mean_absolute_error: 45.4253\n",
      "Epoch 56/100\n",
      "58/58 [==============================] - 0s 2ms/step - loss: 44.4541 - mean_absolute_error: 44.4541 - val_loss: 44.6421 - val_mean_absolute_error: 44.6421\n",
      "Epoch 57/100\n",
      "58/58 [==============================] - 0s 2ms/step - loss: 45.3556 - mean_absolute_error: 45.3556 - val_loss: 44.2019 - val_mean_absolute_error: 44.2019\n",
      "Epoch 58/100\n",
      "58/58 [==============================] - 0s 2ms/step - loss: 43.4401 - mean_absolute_error: 43.4401 - val_loss: 46.1370 - val_mean_absolute_error: 46.1370\n",
      "Epoch 59/100\n",
      "58/58 [==============================] - 0s 2ms/step - loss: 43.3339 - mean_absolute_error: 43.3339 - val_loss: 43.6814 - val_mean_absolute_error: 43.6814\n",
      "Epoch 60/100\n",
      "58/58 [==============================] - 0s 2ms/step - loss: 43.5036 - mean_absolute_error: 43.5036 - val_loss: 44.2436 - val_mean_absolute_error: 44.2436\n",
      "Epoch 61/100\n",
      "58/58 [==============================] - 0s 2ms/step - loss: 43.1114 - mean_absolute_error: 43.1114 - val_loss: 44.3718 - val_mean_absolute_error: 44.3718\n",
      "Epoch 62/100\n",
      "58/58 [==============================] - 0s 2ms/step - loss: 43.9083 - mean_absolute_error: 43.9083 - val_loss: 44.6653 - val_mean_absolute_error: 44.6653\n",
      "Epoch 63/100\n",
      "58/58 [==============================] - 0s 2ms/step - loss: 44.2195 - mean_absolute_error: 44.2195 - val_loss: 43.9126 - val_mean_absolute_error: 43.9126\n",
      "Epoch 64/100\n",
      "58/58 [==============================] - 0s 2ms/step - loss: 42.7702 - mean_absolute_error: 42.7702 - val_loss: 43.8450 - val_mean_absolute_error: 43.8450\n",
      "Epoch 65/100\n",
      "58/58 [==============================] - 0s 2ms/step - loss: 44.2546 - mean_absolute_error: 44.2546 - val_loss: 43.7140 - val_mean_absolute_error: 43.7140\n",
      "Epoch 66/100\n",
      "58/58 [==============================] - 0s 2ms/step - loss: 44.7688 - mean_absolute_error: 44.7688 - val_loss: 44.3220 - val_mean_absolute_error: 44.3220\n",
      "Epoch 67/100\n",
      "58/58 [==============================] - 0s 2ms/step - loss: 43.3933 - mean_absolute_error: 43.3933 - val_loss: 44.9920 - val_mean_absolute_error: 44.9920\n",
      "Epoch 68/100\n",
      "58/58 [==============================] - 0s 2ms/step - loss: 42.8488 - mean_absolute_error: 42.8488 - val_loss: 43.7738 - val_mean_absolute_error: 43.7738\n",
      "Epoch 69/100\n",
      "58/58 [==============================] - 0s 2ms/step - loss: 42.4861 - mean_absolute_error: 42.4861 - val_loss: 44.6037 - val_mean_absolute_error: 44.6037\n",
      "Epoch 70/100\n",
      "58/58 [==============================] - 0s 2ms/step - loss: 44.8290 - mean_absolute_error: 44.8290 - val_loss: 43.3234 - val_mean_absolute_error: 43.3234\n",
      "Epoch 71/100\n",
      "58/58 [==============================] - 0s 2ms/step - loss: 43.1628 - mean_absolute_error: 43.1628 - val_loss: 43.9519 - val_mean_absolute_error: 43.9519\n",
      "Epoch 72/100\n",
      "58/58 [==============================] - 0s 2ms/step - loss: 43.2095 - mean_absolute_error: 43.2095 - val_loss: 47.9999 - val_mean_absolute_error: 47.9999\n",
      "Epoch 73/100\n",
      "58/58 [==============================] - 0s 2ms/step - loss: 44.2194 - mean_absolute_error: 44.2194 - val_loss: 43.9612 - val_mean_absolute_error: 43.9612\n",
      "Epoch 74/100\n",
      "58/58 [==============================] - 0s 2ms/step - loss: 42.8637 - mean_absolute_error: 42.8637 - val_loss: 53.0805 - val_mean_absolute_error: 53.0805\n",
      "Epoch 75/100\n",
      "58/58 [==============================] - 0s 2ms/step - loss: 44.2131 - mean_absolute_error: 44.2131 - val_loss: 43.2662 - val_mean_absolute_error: 43.2662\n",
      "Epoch 76/100\n",
      "58/58 [==============================] - 0s 2ms/step - loss: 43.8226 - mean_absolute_error: 43.8226 - val_loss: 44.1808 - val_mean_absolute_error: 44.1808\n",
      "Epoch 77/100\n",
      "58/58 [==============================] - 0s 2ms/step - loss: 42.3673 - mean_absolute_error: 42.3673 - val_loss: 44.6730 - val_mean_absolute_error: 44.6730\n",
      "Epoch 78/100\n",
      "58/58 [==============================] - 0s 2ms/step - loss: 44.5696 - mean_absolute_error: 44.5696 - val_loss: 43.2071 - val_mean_absolute_error: 43.2071\n",
      "Epoch 79/100\n",
      "58/58 [==============================] - 0s 2ms/step - loss: 43.5997 - mean_absolute_error: 43.5997 - val_loss: 44.3491 - val_mean_absolute_error: 44.3491\n",
      "Epoch 80/100\n",
      "58/58 [==============================] - 0s 2ms/step - loss: 43.1316 - mean_absolute_error: 43.1316 - val_loss: 43.9865 - val_mean_absolute_error: 43.9865\n",
      "Epoch 81/100\n",
      "58/58 [==============================] - 0s 2ms/step - loss: 42.8691 - mean_absolute_error: 42.8691 - val_loss: 52.2893 - val_mean_absolute_error: 52.2893\n",
      "Epoch 82/100\n",
      "58/58 [==============================] - 0s 2ms/step - loss: 43.9658 - mean_absolute_error: 43.9658 - val_loss: 44.8772 - val_mean_absolute_error: 44.8772\n",
      "Epoch 83/100\n",
      "58/58 [==============================] - 0s 2ms/step - loss: 43.5691 - mean_absolute_error: 43.5691 - val_loss: 46.8180 - val_mean_absolute_error: 46.8180\n",
      "Epoch 84/100\n",
      "58/58 [==============================] - 0s 2ms/step - loss: 42.9446 - mean_absolute_error: 42.9446 - val_loss: 43.9899 - val_mean_absolute_error: 43.9899\n",
      "Epoch 85/100\n",
      "58/58 [==============================] - 0s 2ms/step - loss: 43.8473 - mean_absolute_error: 43.8473 - val_loss: 44.4976 - val_mean_absolute_error: 44.4976\n",
      "Epoch 86/100\n",
      "58/58 [==============================] - 0s 2ms/step - loss: 42.3713 - mean_absolute_error: 42.3713 - val_loss: 45.4016 - val_mean_absolute_error: 45.4016\n",
      "Epoch 87/100\n",
      "58/58 [==============================] - 0s 2ms/step - loss: 42.6229 - mean_absolute_error: 42.6229 - val_loss: 46.8957 - val_mean_absolute_error: 46.8957\n",
      "Epoch 88/100\n",
      "58/58 [==============================] - 0s 2ms/step - loss: 43.9628 - mean_absolute_error: 43.9628 - val_loss: 46.9533 - val_mean_absolute_error: 46.9533\n",
      "Epoch 89/100\n",
      "58/58 [==============================] - 0s 2ms/step - loss: 44.1767 - mean_absolute_error: 44.1767 - val_loss: 51.3871 - val_mean_absolute_error: 51.3871\n",
      "Epoch 90/100\n",
      "58/58 [==============================] - 0s 2ms/step - loss: 43.8818 - mean_absolute_error: 43.8818 - val_loss: 45.1210 - val_mean_absolute_error: 45.1210\n",
      "Epoch 91/100\n",
      "58/58 [==============================] - 0s 2ms/step - loss: 43.1334 - mean_absolute_error: 43.1334 - val_loss: 42.9773 - val_mean_absolute_error: 42.9773\n",
      "Epoch 92/100\n",
      "58/58 [==============================] - 0s 2ms/step - loss: 42.5670 - mean_absolute_error: 42.5670 - val_loss: 49.2282 - val_mean_absolute_error: 49.2282\n"
     ]
    },
    {
     "name": "stdout",
     "output_type": "stream",
     "text": [
      "Epoch 93/100\n",
      "58/58 [==============================] - 0s 2ms/step - loss: 43.2225 - mean_absolute_error: 43.2225 - val_loss: 43.9304 - val_mean_absolute_error: 43.9304\n",
      "Epoch 94/100\n",
      "58/58 [==============================] - 0s 2ms/step - loss: 43.9872 - mean_absolute_error: 43.9872 - val_loss: 48.0871 - val_mean_absolute_error: 48.0871\n",
      "Epoch 95/100\n",
      "58/58 [==============================] - 0s 2ms/step - loss: 46.3364 - mean_absolute_error: 46.3364 - val_loss: 48.4707 - val_mean_absolute_error: 48.4707\n",
      "Epoch 96/100\n",
      "58/58 [==============================] - 0s 2ms/step - loss: 45.4724 - mean_absolute_error: 45.4724 - val_loss: 43.1362 - val_mean_absolute_error: 43.1362\n",
      "Epoch 97/100\n",
      "58/58 [==============================] - 0s 2ms/step - loss: 42.2963 - mean_absolute_error: 42.2963 - val_loss: 42.9117 - val_mean_absolute_error: 42.9117\n",
      "Epoch 98/100\n",
      "58/58 [==============================] - 0s 2ms/step - loss: 43.5399 - mean_absolute_error: 43.5399 - val_loss: 43.0674 - val_mean_absolute_error: 43.0674\n",
      "Epoch 99/100\n",
      "58/58 [==============================] - 0s 2ms/step - loss: 42.9343 - mean_absolute_error: 42.9343 - val_loss: 42.9333 - val_mean_absolute_error: 42.9333\n",
      "Epoch 100/100\n",
      "58/58 [==============================] - 0s 2ms/step - loss: 42.4840 - mean_absolute_error: 42.4840 - val_loss: 43.5876 - val_mean_absolute_error: 43.5876\n"
     ]
    }
   ],
   "source": [
    "# creating model\n",
    "ANN_model = Sequential()\n",
    "\n",
    "# Input layer\n",
    "ANN_model.add(Dense(128, kernel_initializer = 'normal', input_dim = x_train.shape[1]))\n",
    "\n",
    "# Hidden layer\n",
    "ANN_model.add(Dense(256, kernel_initializer = 'normal', activation = 'relu'))\n",
    "ANN_model.add(Dense(256, kernel_initializer = 'normal', activation = 'relu'))\n",
    "ANN_model.add(Dense(256, kernel_initializer = 'normal', activation = 'relu'))\n",
    "              \n",
    "# Output layer\n",
    "ANN_model.add(Dense(1, kernel_initializer = 'normal', activation = 'linear'))\n",
    "              \n",
    "# compile the network \n",
    "ANN_model.compile(loss = 'mean_absolute_error', optimizer = 'adam', metrics = ['mean_absolute_error'])\n",
    "ANN_model.summary()\n",
    "              \n",
    "# fitting the ANN on train data\n",
    "model_history = ANN_model.fit(x_train, y_train, validation_split = 0.33, batch_size = 10, epochs = 100)"
   ]
  },
  {
   "cell_type": "code",
   "execution_count": 16,
   "id": "b4dadd8f",
   "metadata": {},
   "outputs": [],
   "source": [
    "# making predictions for test data\n",
    "\n",
    "pred = ANN_model.predict(x_test)"
   ]
  },
  {
   "cell_type": "code",
   "execution_count": 17,
   "id": "3d4ad677",
   "metadata": {},
   "outputs": [
    {
     "name": "stderr",
     "output_type": "stream",
     "text": [
      "c:\\users\\prank\\appdata\\local\\programs\\python\\python37\\lib\\site-packages\\seaborn\\distributions.py:2557: FutureWarning: `distplot` is a deprecated function and will be removed in a future version. Please adapt your code to use either `displot` (a figure-level function with similar flexibility) or `histplot` (an axes-level function for histograms).\n",
      "  warnings.warn(msg, FutureWarning)\n"
     ]
    },
    {
     "data": {
      "text/plain": [
       "<AxesSubplot:ylabel='Density'>"
      ]
     },
     "execution_count": 17,
     "metadata": {},
     "output_type": "execute_result"
    },
    {
     "data": {
      "image/png": "[encoded data removed]",
      "text/plain": [
       "<Figure size 432x288 with 1 Axes>"
      ]
     },
     "metadata": {
      "needs_background": "light"
     },
     "output_type": "display_data"
    }
   ],
   "source": [
    "# observing the 'y_test - pred' graphically\n",
    "\n",
    "sns.distplot(y_test.values.reshape(-1,1) - pred)"
   ]
  },
  {
   "cell_type": "markdown",
   "id": "81110154",
   "metadata": {},
   "source": [
    "## Evaluation Metrics"
   ]
  },
  {
   "cell_type": "code",
   "execution_count": 18,
   "id": "b082f10d",
   "metadata": {},
   "outputs": [
    {
     "name": "stdout",
     "output_type": "stream",
     "text": [
      "MAE :  41.19179210047568\n",
      "MSE :  3679.9365716832003\n",
      "RMSE :  60.662480757740205\n"
     ]
    }
   ],
   "source": [
    "# observing 'MAE', 'MSE', 'RMSE'\n",
    "\n",
    "print('MAE : ', metrics.mean_absolute_error(y_test,pred))\n",
    "print('MSE : ', metrics.mean_squared_error(y_test,pred))\n",
    "print('RMSE : ', np.sqrt(metrics.mean_squared_error(y_test,pred)))"
   ]
  }
 ],
 "metadata": {
  "kernelspec": {
   "display_name": "Python 3",
   "language": "python",
   "name": "python3"
  },
  "language_info": {
   "codemirror_mode": {
    "name": "ipython",
    "version": 3
   },
   "file_extension": ".py",
   "mimetype": "text/x-python",
   "name": "python",
   "nbconvert_exporter": "python",
   "pygments_lexer": "ipython3",
   "version": "3.7.6"
  }
 },
 "nbformat": 4,
 "nbformat_minor": 5
}
